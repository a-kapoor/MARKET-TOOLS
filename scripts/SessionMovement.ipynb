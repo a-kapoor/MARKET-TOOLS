{
 "cells": [
  {
   "cell_type": "code",
   "execution_count": 1,
   "id": "3c62f244",
   "metadata": {},
   "outputs": [],
   "source": [
    "import sys  \n",
    "sys.path.append('/home/akapoor/miniconda3/envs/MARKETS/lib/python3.8/site-packages/')\n",
    "import pandas as pd\n",
    "df=pd.read_csv('bigfile.csv')  "
   ]
  },
  {
   "cell_type": "code",
   "execution_count": 2,
   "id": "1a7dadc0",
   "metadata": {},
   "outputs": [],
   "source": [
    "df['Dates'] = pd.to_datetime(df['date']).dt.date\n",
    "df['Time'] = pd.to_datetime(df['date']).dt.time\n",
    "df['Hour'] = pd.to_datetime(df['date']).dt.hour"
   ]
  },
  {
   "cell_type": "code",
   "execution_count": 3,
   "id": "50beda77",
   "metadata": {},
   "outputs": [],
   "source": [
    "df=df.assign(session=pd.cut(pd.to_datetime(df['date']).dt.hour,\n",
    "                            [8,11,14,16],\n",
    "                            labels=['Morning','Afternoon','Evening']))"
   ]
  },
  {
   "cell_type": "code",
   "execution_count": 4,
   "id": "5cf9bd34",
   "metadata": {},
   "outputs": [],
   "source": [
    "df['Month'] = pd.to_datetime(df['date']).dt.month"
   ]
  },
  {
   "cell_type": "code",
   "execution_count": 6,
   "id": "7f24d284",
   "metadata": {},
   "outputs": [],
   "source": [
    "dfstd=df.groupby(['Dates','session']).std().reset_index()"
   ]
  },
  {
   "cell_type": "code",
   "execution_count": 7,
   "id": "da7e1465",
   "metadata": {},
   "outputs": [
    {
     "data": {
      "text/html": [
       "<div>\n",
       "<style scoped>\n",
       "    .dataframe tbody tr th:only-of-type {\n",
       "        vertical-align: middle;\n",
       "    }\n",
       "\n",
       "    .dataframe tbody tr th {\n",
       "        vertical-align: top;\n",
       "    }\n",
       "\n",
       "    .dataframe thead th {\n",
       "        text-align: right;\n",
       "    }\n",
       "</style>\n",
       "<table border=\"1\" class=\"dataframe\">\n",
       "  <thead>\n",
       "    <tr style=\"text-align: right;\">\n",
       "      <th></th>\n",
       "      <th>Dates</th>\n",
       "      <th>session</th>\n",
       "      <th>open</th>\n",
       "      <th>high</th>\n",
       "      <th>low</th>\n",
       "      <th>close</th>\n",
       "      <th>volume</th>\n",
       "      <th>Hour</th>\n",
       "      <th>Month</th>\n",
       "    </tr>\n",
       "  </thead>\n",
       "  <tbody>\n",
       "    <tr>\n",
       "      <th>0</th>\n",
       "      <td>2021-07-01</td>\n",
       "      <td>Morning</td>\n",
       "      <td>15.023927</td>\n",
       "      <td>15.231974</td>\n",
       "      <td>14.104843</td>\n",
       "      <td>14.672331</td>\n",
       "      <td>0.0</td>\n",
       "      <td>0.794940</td>\n",
       "      <td>0.0</td>\n",
       "    </tr>\n",
       "    <tr>\n",
       "      <th>1</th>\n",
       "      <td>2021-07-01</td>\n",
       "      <td>Afternoon</td>\n",
       "      <td>10.545406</td>\n",
       "      <td>10.532127</td>\n",
       "      <td>10.631538</td>\n",
       "      <td>10.703080</td>\n",
       "      <td>0.0</td>\n",
       "      <td>0.818774</td>\n",
       "      <td>0.0</td>\n",
       "    </tr>\n",
       "    <tr>\n",
       "      <th>2</th>\n",
       "      <td>2021-07-01</td>\n",
       "      <td>Evening</td>\n",
       "      <td>6.977225</td>\n",
       "      <td>7.110367</td>\n",
       "      <td>7.317892</td>\n",
       "      <td>7.380035</td>\n",
       "      <td>0.0</td>\n",
       "      <td>0.000000</td>\n",
       "      <td>0.0</td>\n",
       "    </tr>\n",
       "    <tr>\n",
       "      <th>3</th>\n",
       "      <td>2021-07-02</td>\n",
       "      <td>Morning</td>\n",
       "      <td>10.672307</td>\n",
       "      <td>10.662307</td>\n",
       "      <td>10.191423</td>\n",
       "      <td>10.342299</td>\n",
       "      <td>0.0</td>\n",
       "      <td>0.794940</td>\n",
       "      <td>0.0</td>\n",
       "    </tr>\n",
       "    <tr>\n",
       "      <th>4</th>\n",
       "      <td>2021-07-02</td>\n",
       "      <td>Afternoon</td>\n",
       "      <td>9.716060</td>\n",
       "      <td>9.858439</td>\n",
       "      <td>9.594955</td>\n",
       "      <td>9.694692</td>\n",
       "      <td>0.0</td>\n",
       "      <td>0.818774</td>\n",
       "      <td>0.0</td>\n",
       "    </tr>\n",
       "    <tr>\n",
       "      <th>5</th>\n",
       "      <td>2021-07-02</td>\n",
       "      <td>Evening</td>\n",
       "      <td>8.934082</td>\n",
       "      <td>7.830188</td>\n",
       "      <td>9.116230</td>\n",
       "      <td>7.792361</td>\n",
       "      <td>0.0</td>\n",
       "      <td>0.000000</td>\n",
       "      <td>0.0</td>\n",
       "    </tr>\n",
       "    <tr>\n",
       "      <th>6</th>\n",
       "      <td>2021-07-05</td>\n",
       "      <td>Morning</td>\n",
       "      <td>9.802196</td>\n",
       "      <td>8.751590</td>\n",
       "      <td>10.729491</td>\n",
       "      <td>9.602765</td>\n",
       "      <td>0.0</td>\n",
       "      <td>0.794940</td>\n",
       "      <td>0.0</td>\n",
       "    </tr>\n",
       "  </tbody>\n",
       "</table>\n",
       "</div>"
      ],
      "text/plain": [
       "        Dates    session       open       high        low      close  volume  \\\n",
       "0  2021-07-01    Morning  15.023927  15.231974  14.104843  14.672331     0.0   \n",
       "1  2021-07-01  Afternoon  10.545406  10.532127  10.631538  10.703080     0.0   \n",
       "2  2021-07-01    Evening   6.977225   7.110367   7.317892   7.380035     0.0   \n",
       "3  2021-07-02    Morning  10.672307  10.662307  10.191423  10.342299     0.0   \n",
       "4  2021-07-02  Afternoon   9.716060   9.858439   9.594955   9.694692     0.0   \n",
       "5  2021-07-02    Evening   8.934082   7.830188   9.116230   7.792361     0.0   \n",
       "6  2021-07-05    Morning   9.802196   8.751590  10.729491   9.602765     0.0   \n",
       "\n",
       "       Hour  Month  \n",
       "0  0.794940    0.0  \n",
       "1  0.818774    0.0  \n",
       "2  0.000000    0.0  \n",
       "3  0.794940    0.0  \n",
       "4  0.818774    0.0  \n",
       "5  0.000000    0.0  \n",
       "6  0.794940    0.0  "
      ]
     },
     "execution_count": 7,
     "metadata": {},
     "output_type": "execute_result"
    }
   ],
   "source": [
    "dfstd.head(7)"
   ]
  },
  {
   "cell_type": "code",
   "execution_count": 8,
   "id": "f8e52312",
   "metadata": {},
   "outputs": [],
   "source": [
    "import matplotlib.pyplot as plt\n",
    "import seaborn as sns"
   ]
  },
  {
   "cell_type": "code",
   "execution_count": 13,
   "id": "6270d0ba",
   "metadata": {},
   "outputs": [
    {
     "data": {
      "text/plain": [
       "Text(0.5, 1.0, 'NIFT 50 - July to Dec 2021')"
      ]
     },
     "execution_count": 13,
     "metadata": {},
     "output_type": "execute_result"
    },
    {
     "data": {
      "image/png": "[encoded data removed]",
      "text/plain": [
       "<Figure size 432x288 with 1 Axes>"
      ]
     },
     "metadata": {
      "needs_background": "light"
     },
     "output_type": "display_data"
    }
   ],
   "source": [
    "ax=plt.gca()\n",
    "sns.histplot(dfstd,hue='session',x='open',fill=False,kde=True,ax=ax,legend=True)\n",
    "ax.set_xlabel(\"open price std\")\n",
    "ax.set_ylabel(\"Days\")\n",
    "ax.set_title(\"NIFT 50 - July to Dec 2021\")"
   ]
  },
  {
   "cell_type": "code",
   "execution_count": null,
   "id": "75ad7ac3",
   "metadata": {},
   "outputs": [],
   "source": []
  }
 ],
 "metadata": {
  "kernelspec": {
   "display_name": "Python 3 (ipykernel)",
   "language": "python",
   "name": "python3"
  },
  "language_info": {
   "codemirror_mode": {
    "name": "ipython",
    "version": 3
   },
   "file_extension": ".py",
   "mimetype": "text/x-python",
   "name": "python",
   "nbconvert_exporter": "python",
   "pygments_lexer": "ipython3",
   "version": "3.8.10"
  }
 },
 "nbformat": 4,
 "nbformat_minor": 5
}
